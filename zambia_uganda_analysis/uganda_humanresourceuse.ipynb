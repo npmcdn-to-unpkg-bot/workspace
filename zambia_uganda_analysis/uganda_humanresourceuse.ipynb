{
 "cells": [
  {
   "cell_type": "markdown",
   "metadata": {},
   "source": [
    "# Uganda Humans and Resource Use Zero-Infated Poisson Analysis "
   ]
  },
  {
   "cell_type": "markdown",
   "metadata": {},
   "source": [
    "<font color='red'>Note: </font> Most of the resource use observations are presence/absence observations, not count."
   ]
  },
  {
   "cell_type": "markdown",
   "metadata": {},
   "source": [
    "### Data wrangling\n",
    "\n",
    "The first step is to import the various python packages needed to conduct the analysis:"
   ]
  },
  {
   "cell_type": "code",
   "execution_count": 1,
   "metadata": {
    "collapsed": false
   },
   "outputs": [],
   "source": [
    "# Import packages\n",
    "%matplotlib inline\n",
    "import pandas as pd\n",
    "import numpy as np\n",
    "import matplotlib.pyplot as plt\n",
    "from scipy.special import gamma as gammaf\n",
    "from scipy.misc import factorial as ft\n",
    "import seaborn as sns\n",
    "#from mpl_toolkits.basemap import Basemap as bm\n",
    "import pymc as pm"
   ]
  },
  {
   "cell_type": "markdown",
   "metadata": {},
   "source": [
    "Because arrays are more efficient than loops, we'll need a couple of functions to do some array indexing in the BHM. These are defined by the `def` statement in Python:"
   ]
  },
  {
   "cell_type": "code",
   "execution_count": 2,
   "metadata": {
    "collapsed": true
   },
   "outputs": [],
   "source": [
    "# Return list of unique items and an index of their position in L\n",
    "def indexall(L):\n",
    "    poo = []\n",
    "    for p in L:\n",
    "        if not p in poo:\n",
    "            poo.append(p)\n",
    "    Ix = np.array([poo.index(p) for p in L])\n",
    "    return poo,Ix\n",
    "\n",
    "# Return list of unique items and an index of their position in long, relative to short\n",
    "def subindexall(short,long):\n",
    "    poo = []\n",
    "    out = []\n",
    "    for s,l in zip(short,long):\n",
    "        if not l in poo:\n",
    "            poo.append(l)\n",
    "            out.append(s)\n",
    "    return indexall(out)"
   ]
  },
  {
   "cell_type": "markdown",
   "metadata": {},
   "source": [
    "The next step is to import the data:"
   ]
  },
  {
   "cell_type": "code",
   "execution_count": 3,
   "metadata": {
    "collapsed": false
   },
   "outputs": [
    {
     "data": {
      "text/html": [
       "<div>\n",
       "<table border=\"1\" class=\"dataframe\">\n",
       "  <thead>\n",
       "    <tr style=\"text-align: right;\">\n",
       "      <th></th>\n",
       "      <th>cell_id</th>\n",
       "      <th>transect_id</th>\n",
       "      <th>natpark_in_out</th>\n",
       "      <th>survey_id</th>\n",
       "      <th>country_id</th>\n",
       "      <th>zebra_count</th>\n",
       "      <th>zebra_observations</th>\n",
       "      <th>livestock_count</th>\n",
       "      <th>livestock_observations</th>\n",
       "      <th>buffalo_count</th>\n",
       "      <th>buffalo_observations</th>\n",
       "      <th>agriculture_count</th>\n",
       "      <th>agriculture_observations</th>\n",
       "      <th>humanresources_count</th>\n",
       "      <th>humanresources_observations</th>\n",
       "    </tr>\n",
       "  </thead>\n",
       "  <tbody>\n",
       "    <tr>\n",
       "      <th>0</th>\n",
       "      <td>35339</td>\n",
       "      <td>5852</td>\n",
       "      <td>0</td>\n",
       "      <td>833</td>\n",
       "      <td>17</td>\n",
       "      <td>0</td>\n",
       "      <td>0</td>\n",
       "      <td>0</td>\n",
       "      <td>0</td>\n",
       "      <td>0</td>\n",
       "      <td>0</td>\n",
       "      <td>0</td>\n",
       "      <td>0</td>\n",
       "      <td>0</td>\n",
       "      <td>0</td>\n",
       "    </tr>\n",
       "    <tr>\n",
       "      <th>1</th>\n",
       "      <td>35340</td>\n",
       "      <td>5852</td>\n",
       "      <td>0</td>\n",
       "      <td>833</td>\n",
       "      <td>17</td>\n",
       "      <td>0</td>\n",
       "      <td>0</td>\n",
       "      <td>0</td>\n",
       "      <td>0</td>\n",
       "      <td>0</td>\n",
       "      <td>0</td>\n",
       "      <td>0</td>\n",
       "      <td>0</td>\n",
       "      <td>0</td>\n",
       "      <td>0</td>\n",
       "    </tr>\n",
       "    <tr>\n",
       "      <th>2</th>\n",
       "      <td>35341</td>\n",
       "      <td>5852</td>\n",
       "      <td>1</td>\n",
       "      <td>833</td>\n",
       "      <td>17</td>\n",
       "      <td>0</td>\n",
       "      <td>0</td>\n",
       "      <td>0</td>\n",
       "      <td>0</td>\n",
       "      <td>0</td>\n",
       "      <td>0</td>\n",
       "      <td>0</td>\n",
       "      <td>0</td>\n",
       "      <td>0</td>\n",
       "      <td>0</td>\n",
       "    </tr>\n",
       "    <tr>\n",
       "      <th>3</th>\n",
       "      <td>35342</td>\n",
       "      <td>5852</td>\n",
       "      <td>1</td>\n",
       "      <td>833</td>\n",
       "      <td>17</td>\n",
       "      <td>0</td>\n",
       "      <td>0</td>\n",
       "      <td>0</td>\n",
       "      <td>0</td>\n",
       "      <td>0</td>\n",
       "      <td>0</td>\n",
       "      <td>0</td>\n",
       "      <td>0</td>\n",
       "      <td>0</td>\n",
       "      <td>0</td>\n",
       "    </tr>\n",
       "    <tr>\n",
       "      <th>4</th>\n",
       "      <td>35343</td>\n",
       "      <td>5852</td>\n",
       "      <td>1</td>\n",
       "      <td>833</td>\n",
       "      <td>17</td>\n",
       "      <td>0</td>\n",
       "      <td>0</td>\n",
       "      <td>0</td>\n",
       "      <td>0</td>\n",
       "      <td>0</td>\n",
       "      <td>0</td>\n",
       "      <td>0</td>\n",
       "      <td>0</td>\n",
       "      <td>0</td>\n",
       "      <td>0</td>\n",
       "    </tr>\n",
       "  </tbody>\n",
       "</table>\n",
       "</div>"
      ],
      "text/plain": [
       "   cell_id  transect_id  natpark_in_out  survey_id  country_id  zebra_count  \\\n",
       "0    35339         5852               0        833          17            0   \n",
       "1    35340         5852               0        833          17            0   \n",
       "2    35341         5852               1        833          17            0   \n",
       "3    35342         5852               1        833          17            0   \n",
       "4    35343         5852               1        833          17            0   \n",
       "\n",
       "   zebra_observations  livestock_count  livestock_observations  buffalo_count  \\\n",
       "0                   0                0                       0              0   \n",
       "1                   0                0                       0              0   \n",
       "2                   0                0                       0              0   \n",
       "3                   0                0                       0              0   \n",
       "4                   0                0                       0              0   \n",
       "\n",
       "   buffalo_observations  agriculture_count  agriculture_observations  \\\n",
       "0                     0                  0                         0   \n",
       "1                     0                  0                         0   \n",
       "2                     0                  0                         0   \n",
       "3                     0                  0                         0   \n",
       "4                     0                  0                         0   \n",
       "\n",
       "   humanresources_count  humanresources_observations  \n",
       "0                     0                            0  \n",
       "1                     0                            0  \n",
       "2                     0                            0  \n",
       "3                     0                            0  \n",
       "4                     0                            0  "
      ]
     },
     "execution_count": 3,
     "metadata": {},
     "output_type": "execute_result"
    }
   ],
   "source": [
    "# Import test dataset\n",
    "xdata = pd.read_csv('uganda.csv')\n",
    "xdata.head()"
   ]
  },
  {
   "cell_type": "code",
   "execution_count": 4,
   "metadata": {
    "collapsed": false
   },
   "outputs": [
    {
     "data": {
      "text/plain": [
       "array(['cell_id', 'transect_id', 'natpark_in_out', 'survey_id',\n",
       "       'country_id', 'zebra_count', 'zebra_observations',\n",
       "       'livestock_count', 'livestock_observations', 'buffalo_count',\n",
       "       'buffalo_observations', 'agriculture_count',\n",
       "       'agriculture_observations', 'humanresources_count',\n",
       "       'humanresources_observations'], dtype=object)"
      ]
     },
     "execution_count": 4,
     "metadata": {},
     "output_type": "execute_result"
    }
   ],
   "source": [
    "xdata.columns.values"
   ]
  },
  {
   "cell_type": "code",
   "execution_count": 5,
   "metadata": {
    "collapsed": false
   },
   "outputs": [
    {
     "data": {
      "text/plain": [
       "array([833, 832])"
      ]
     },
     "execution_count": 5,
     "metadata": {},
     "output_type": "execute_result"
    }
   ],
   "source": [
    "xdata.survey_id.unique()"
   ]
  },
  {
   "cell_type": "code",
   "execution_count": 6,
   "metadata": {
    "collapsed": false
   },
   "outputs": [
    {
     "data": {
      "text/plain": [
       "array([5852, 5851, 5850, 5849, 5848, 5847, 5846, 5845, 5844, 5843, 5842,\n",
       "       5841, 5840, 5839, 5838, 5837, 5836, 5835, 5834, 5833, 5832, 5831,\n",
       "       5830, 5829, 5828, 5827, 5826, 5825, 5824, 5823, 5822, 5821, 5820,\n",
       "       5819, 5818, 5817, 5816, 5815, 5709, 5710, 5711, 5712, 5713, 5708,\n",
       "       5715, 5686, 5687, 5688, 5689, 5707, 5685, 5691, 5692, 5734, 5690,\n",
       "       5716, 5693, 5705, 5717, 5718, 5706, 5714, 5719, 5694, 5695, 5720,\n",
       "       5696, 5697, 5721, 5698, 5699, 5700, 5701, 5703, 5704, 5722, 5702,\n",
       "       5723, 5724, 5726, 5727, 5725, 5728, 5731, 5730, 5729, 5732, 5733])"
      ]
     },
     "execution_count": 6,
     "metadata": {},
     "output_type": "execute_result"
    }
   ],
   "source": [
    "xdata.transect_id.unique()"
   ]
  },
  {
   "cell_type": "code",
   "execution_count": 7,
   "metadata": {
    "collapsed": false
   },
   "outputs": [
    {
     "data": {
      "image/png": "[encoded data removed]",
      "text/plain": [
       "<matplotlib.figure.Figure at 0x10f73eb70>"
      ]
     },
     "metadata": {},
     "output_type": "display_data"
    }
   ],
   "source": [
    "# Specify response - change here for other critters\n",
    "response = xdata.humanresources_count.values\n",
    "\n",
    "# Plot\n",
    "plt.hist(response[response>0]);"
   ]
  },
  {
   "cell_type": "code",
   "execution_count": 8,
   "metadata": {
    "collapsed": true
   },
   "outputs": [],
   "source": [
    "# Observed zeros\n",
    "Iz = (response==0)*1\n",
    "# Observed counts\n",
    "Ic = (response>0)*1"
   ]
  },
  {
   "cell_type": "code",
   "execution_count": 9,
   "metadata": {
    "collapsed": false
   },
   "outputs": [
    {
     "data": {
      "text/plain": [
       "0.0014204545454545455"
      ]
     },
     "execution_count": 9,
     "metadata": {},
     "output_type": "execute_result"
    }
   ],
   "source": [
    "sum(Ic)/len(Ic)"
   ]
  },
  {
   "cell_type": "code",
   "execution_count": 10,
   "metadata": {
    "collapsed": true
   },
   "outputs": [],
   "source": [
    "# Create index to associate each cell with a given transect\n",
    "Transect,It = indexall(xdata.transect_id.values)\n",
    "ntrans = len(Transect)\n",
    "\n",
    "# Use Python list indexing to create social-site indexing array\n",
    "tindx = np.array([[x for x in It].index(i) for i in range(ntrans)])\n",
    "\n",
    "# Indicator for being in/out of park\n",
    "Park = xdata.natpark_in_out.values[tindx]"
   ]
  },
  {
   "cell_type": "code",
   "execution_count": 11,
   "metadata": {
    "collapsed": false
   },
   "outputs": [
    {
     "data": {
      "text/plain": [
       "array([5852, 5851, 5850, 5849, 5848, 5847, 5846, 5845, 5844, 5843, 5842,\n",
       "       5841, 5840, 5839, 5838, 5837, 5836, 5835, 5834, 5833, 5832, 5831,\n",
       "       5830, 5829, 5828, 5827, 5826, 5825, 5824, 5823, 5822, 5821, 5820,\n",
       "       5819, 5818, 5817, 5816, 5815, 5709, 5710, 5711, 5712, 5713, 5708,\n",
       "       5715, 5686, 5687, 5688, 5689, 5707, 5685, 5691, 5692, 5734, 5690,\n",
       "       5716, 5693, 5705, 5717, 5718, 5706, 5714, 5719, 5694, 5695, 5720,\n",
       "       5696, 5697, 5721, 5698, 5699, 5700, 5701, 5703, 5704, 5722, 5702,\n",
       "       5723, 5724, 5726, 5727, 5725, 5728, 5731, 5730, 5729, 5732, 5733])"
      ]
     },
     "execution_count": 11,
     "metadata": {},
     "output_type": "execute_result"
    }
   ],
   "source": [
    "np.array(Transect)"
   ]
  },
  {
   "cell_type": "code",
   "execution_count": 12,
   "metadata": {
    "collapsed": false
   },
   "outputs": [
    {
     "data": {
      "text/plain": [
       "array([0, 0, 0, 0, 0, 0, 0, 0, 0, 0, 0, 0, 0, 0, 0, 0, 1, 1, 1, 1, 0, 0, 0,\n",
       "       0, 1, 0, 0, 0, 0, 0, 0, 0, 0, 0, 0, 0, 0, 0, 0, 0, 0, 0, 0, 0, 0, 1,\n",
       "       1, 1, 1, 0, 1, 1, 1, 1, 1, 1, 1, 0, 1, 1, 0, 0, 1, 1, 1, 1, 0, 0, 1,\n",
       "       0, 0, 0, 0, 0, 0, 1, 0, 1, 1, 1, 1, 1, 1, 1, 1, 1, 1, 1])"
      ]
     },
     "execution_count": 12,
     "metadata": {},
     "output_type": "execute_result"
    }
   ],
   "source": [
    "Park"
   ]
  },
  {
   "cell_type": "code",
   "execution_count": 13,
   "metadata": {
    "collapsed": false
   },
   "outputs": [],
   "source": [
    "# Create index to associate each transect with a given survey\n",
    "Survey,Is = subindexall(xdata.survey_id.values,xdata.transect_id.values)\n",
    "nsurvey = len(Survey)"
   ]
  },
  {
   "cell_type": "code",
   "execution_count": 14,
   "metadata": {
    "collapsed": false
   },
   "outputs": [
    {
     "data": {
      "text/plain": [
       "[833, 832]"
      ]
     },
     "execution_count": 14,
     "metadata": {},
     "output_type": "execute_result"
    }
   ],
   "source": [
    "Survey"
   ]
  },
  {
   "cell_type": "code",
   "execution_count": 15,
   "metadata": {
    "collapsed": false
   },
   "outputs": [
    {
     "data": {
      "text/plain": [
       "array([0, 0, 0, 0, 0, 0, 0, 0, 0, 0, 0, 0, 0, 0, 0, 0, 0, 0, 0, 0, 0, 0, 0,\n",
       "       0, 0, 0, 0, 0, 0, 0, 0, 0, 0, 0, 0, 0, 0, 0, 1, 1, 1, 1, 1, 1, 1, 1,\n",
       "       1, 1, 1, 1, 1, 1, 1, 1, 1, 1, 1, 1, 1, 1, 1, 1, 1, 1, 1, 1, 1, 1, 1,\n",
       "       1, 1, 1, 1, 1, 1, 1, 1, 1, 1, 1, 1, 1, 1, 1, 1, 1, 1, 1])"
      ]
     },
     "execution_count": 15,
     "metadata": {},
     "output_type": "execute_result"
    }
   ],
   "source": [
    "Is"
   ]
  },
  {
   "cell_type": "markdown",
   "metadata": {},
   "source": [
    "## Bayesian hierarchical model"
   ]
  },
  {
   "cell_type": "markdown",
   "metadata": {},
   "source": [
    "### Count model"
   ]
  },
  {
   "cell_type": "code",
   "execution_count": 16,
   "metadata": {
    "collapsed": true
   },
   "outputs": [],
   "source": [
    "# Global intercept\n",
    "#gamma_0 = pm.Normal('global_mean', mu=0.0, tau=0.001, value=0.)\n",
    "\n",
    "# Standard deviation of intercepts\n",
    "#sigma1 = pm.Uniform('SD1', lower=0, upper=100, value=5.)\n",
    "# Precisions of survey-scale intercepts\n",
    "#tau1 = pm.Lambda('tau1', lambda sd=sigma1: sd**-2)\n",
    "\n",
    "# Distribution of survey-scale intercepts\n",
    "#eta_0 = pm.Normal('survey', mu=gamma_0, tau=tau1, value=np.ones(nsurvey))\n",
    "eta_0 = pm.Normal('survey', mu=0.0, tau=0.001, value=np.ones(nsurvey))\n",
    "\n",
    "# Standard deviation of transect-scale intercepts\n",
    "sigma2 = pm.Uniform('SD2', lower=0, upper=100, value=1.)\n",
    "# Precisions of transect-scale intercepts\n",
    "tau2 = pm.Lambda('tau2', lambda sd=sigma2: sd**-2)\n",
    "\n",
    "# Transect-scale intercepts\n",
    "#beta_0 = pm.Normal('transect', mu=eta_0[Is], tau=tau2)\n",
    "\n",
    "# Park effect\n",
    "beta_1 = pm.Normal('park', mu=0.0, tau=0.001)\n",
    "\n",
    "# Park model\n",
    "mu = pm.Lambda('mu', lambda b0=eta_0[Is], b1=beta_1: b0+b1*Park)\n",
    "\n",
    "# Transect-scale intercepts\n",
    "beta_0 = pm.Normal('transect', mu=mu, tau=tau2)\n",
    "\n",
    "# Link function for rate\n",
    "lambduh = pm.Lambda('lambduh', lambda b=beta_0[It]: np.exp(b))"
   ]
  },
  {
   "cell_type": "markdown",
   "metadata": {},
   "source": [
    "### Zeros model"
   ]
  },
  {
   "cell_type": "code",
   "execution_count": 17,
   "metadata": {
    "collapsed": true
   },
   "outputs": [],
   "source": [
    "# Global intercept\n",
    "#gamma_0_z = pm.Normal('global_mean_z', mu=0.0, tau=0.001, value=0.)\n",
    "\n",
    "# Standard deviation of intercepts\n",
    "#sigma1_z = pm.Uniform('SD1_z', lower=0, upper=100, value=5.)\n",
    "# Precisions of survey-scale intercepts\n",
    "#tau1_z = pm.Lambda('tau1_z', lambda sd=sigma1_z: sd**-2)\n",
    "\n",
    "# Distribution of survey-scale intercepts\n",
    "#eta_0_z = pm.Normal('survey_z', mu=gamma_0_z, tau=tau1_z, value=np.ones(nsurvey))\n",
    "eta_0_z = pm.Normal('survey_z', mu=0.0, tau=0.0001, value=np.ones(nsurvey))\n",
    "\n",
    "# Standard deviation of transect-scale intercepts\n",
    "sigma2_z = pm.Uniform('SD2_z', lower=0, upper=100, value=1.)\n",
    "# Precisions of transect-scale intercepts\n",
    "tau2_z = pm.Lambda('tau2_z', lambda sd=sigma2_z: sd**-2)\n",
    "\n",
    "# Transect-scale intercepts\n",
    "beta_0_z = pm.Normal('transect_z', mu=eta_0_z[Is], tau=tau2_z)\n",
    "\n",
    "\n",
    "# Park effect\n",
    "beta_1_z = pm.Normal('park_z', mu=0.0, tau=0.001)\n",
    "\n",
    "# Park model\n",
    "mu_z = pm.Lambda('mu_z', lambda b0=eta_0_z[Is], b1=beta_1_z: b0+b1*Park)\n",
    "\n",
    "# Transect-scale intercepts\n",
    "beta_0_z = pm.Normal('transect_z', mu=mu_z, tau=tau2_z)\n",
    "\n",
    "# Zeros model\n",
    "psi = pm.Lambda('psi', lambda b0=beta_0_z[It]: pm.invlogit(b0))"
   ]
  },
  {
   "cell_type": "code",
   "execution_count": 18,
   "metadata": {
    "collapsed": true
   },
   "outputs": [],
   "source": [
    "# ZINB likelihood\n",
    "@pm.observed(dtype=int, plot=False)\n",
    "def zinb(value=response, mu=lambduh, alpha=1., psi=psi):\n",
    "    # Initialise likeihood\n",
    "    like = 0.0\n",
    "    # Add zero component; zero probability + P(NB==0); value flags for non-zeros to cancel out\n",
    "    like += np.sum((np.log(psi + (1.-psi)*(alpha/(mu+alpha))**alpha))*Iz)\n",
    "    # Add count component; non-zero probability + P(NB>0); value flags for zeros to cancel out\n",
    "    like += np.sum((np.log(1.-psi) + np.log(gammaf(alpha+value))-np.log((ft(value)*gammaf(alpha))) + alpha*np.log(alpha/(mu+alpha)) + value*np.log(mu/(mu+alpha)))*Ic)\n",
    "    return like"
   ]
  },
  {
   "cell_type": "code",
   "execution_count": 19,
   "metadata": {
    "collapsed": false
   },
   "outputs": [
    {
     "name": "stderr",
     "output_type": "stream",
     "text": [
      "/Library/Frameworks/Python.framework/Versions/3.5/lib/python3.5/site-packages/pymc-2.3.6-py3.5-macosx-10.6-intel.egg/pymc/Node.py:403: VisibleDeprecationWarning: using a non-integer number instead of an integer will result in an error in the future\n",
      "  self.__name__ = input['__name__']\n"
     ]
    },
    {
     "name": "stdout",
     "output_type": "stream",
     "text": [
      " [-----------------100%-----------------] 100000 of 100000 complete in 80.6 sec"
     ]
    }
   ],
   "source": [
    "M = pm.MCMC(locals())\n",
    "M.sample(100000, 99000)\n",
    "M.sample(100000, 99000)"
   ]
  },
  {
   "cell_type": "code",
   "execution_count": 20,
   "metadata": {
    "collapsed": false
   },
   "outputs": [
    {
     "name": "stdout",
     "output_type": "stream",
     "text": [
      "Plotting survey_0\n",
      "Plotting survey_1\n"
     ]
    },
    {
     "data": {
      "image/png": "[encoded data removed]",
      "text/plain": [
       "<matplotlib.figure.Figure at 0x10f865b70>"
      ]
     },
     "metadata": {},
     "output_type": "display_data"
    }
   ],
   "source": [
    "pm.Matplot.plot(M.eta_0)"
   ]
  },
  {
   "cell_type": "code",
   "execution_count": 21,
   "metadata": {
    "collapsed": false
   },
   "outputs": [
    {
     "data": {
      "text/plain": [
       "[0.023179177408504177, 0.3057089528670871]"
      ]
     },
     "execution_count": 21,
     "metadata": {},
     "output_type": "execute_result"
    }
   ],
   "source": [
    "[np.mean(x) for x in np.exp(M.eta_0.trace()).T]"
   ]
  },
  {
   "cell_type": "code",
   "execution_count": 22,
   "metadata": {
    "collapsed": false
   },
   "outputs": [
    {
     "data": {
      "text/plain": [
       "[0.013234618906830104, 0.16396083475597281]"
      ]
     },
     "execution_count": 22,
     "metadata": {},
     "output_type": "execute_result"
    }
   ],
   "source": [
    "[np.percentile(x,2.5) for x in np.exp(M.eta_0.trace()).T]"
   ]
  },
  {
   "cell_type": "code",
   "execution_count": 23,
   "metadata": {
    "collapsed": false
   },
   "outputs": [
    {
     "data": {
      "text/plain": [
       "[0.036091315528137748, 0.53267706353610822]"
      ]
     },
     "execution_count": 23,
     "metadata": {},
     "output_type": "execute_result"
    }
   ],
   "source": [
    "[np.percentile(x,97.5) for x in np.exp(M.eta_0.trace()).T]"
   ]
  },
  {
   "cell_type": "code",
   "execution_count": 24,
   "metadata": {
    "collapsed": false
   },
   "outputs": [
    {
     "name": "stdout",
     "output_type": "stream",
     "text": [
      "Plotting park\n"
     ]
    },
    {
     "data": {
      "image/png": "[encoded data removed]",
      "text/plain": [
       "<matplotlib.figure.Figure at 0x10f77c518>"
      ]
     },
     "metadata": {},
     "output_type": "display_data"
    }
   ],
   "source": [
    "pm.Matplot.plot(M.beta_1)"
   ]
  },
  {
   "cell_type": "code",
   "execution_count": 25,
   "metadata": {
    "collapsed": false
   },
   "outputs": [
    {
     "data": {
      "image/png": "[encoded data removed]",
      "text/plain": [
       "<matplotlib.figure.Figure at 0x113106240>"
      ]
     },
     "metadata": {},
     "output_type": "display_data"
    }
   ],
   "source": [
    "pm.Matplot.summary_plot(M.beta_1)"
   ]
  },
  {
   "cell_type": "code",
   "execution_count": 26,
   "metadata": {
    "collapsed": false
   },
   "outputs": [
    {
     "name": "stdout",
     "output_type": "stream",
     "text": [
      "Plotting park_z\n"
     ]
    },
    {
     "data": {
      "image/png": "[encoded data removed]",
      "text/plain": [
       "<matplotlib.figure.Figure at 0x113367a20>"
      ]
     },
     "metadata": {},
     "output_type": "display_data"
    }
   ],
   "source": [
    "pm.Matplot.plot(M.beta_1_z)"
   ]
  },
  {
   "cell_type": "code",
   "execution_count": 27,
   "metadata": {
    "collapsed": false
   },
   "outputs": [
    {
     "data": {
      "image/png": "[encoded data removed]",
      "text/plain": [
       "<matplotlib.figure.Figure at 0x113369828>"
      ]
     },
     "metadata": {},
     "output_type": "display_data"
    }
   ],
   "source": [
    "pm.Matplot.summary_plot(M.beta_1_z)"
   ]
  },
  {
   "cell_type": "code",
   "execution_count": 28,
   "metadata": {
    "collapsed": false
   },
   "outputs": [
    {
     "data": {
      "text/plain": [
       "1.0"
      ]
     },
     "execution_count": 28,
     "metadata": {},
     "output_type": "execute_result"
    }
   ],
   "source": [
    "tmp = response[response>0]\n",
    "tmp2 = xdata.natpark_in_out.values[response>0]\n",
    "\n",
    "np.mean(tmp[tmp2==1])"
   ]
  },
  {
   "cell_type": "code",
   "execution_count": 29,
   "metadata": {
    "collapsed": false
   },
   "outputs": [
    {
     "data": {
      "text/plain": [
       "1.0"
      ]
     },
     "execution_count": 29,
     "metadata": {},
     "output_type": "execute_result"
    }
   ],
   "source": [
    "np.mean(tmp[tmp2==0])"
   ]
  },
  {
   "cell_type": "code",
   "execution_count": null,
   "metadata": {
    "collapsed": true
   },
   "outputs": [],
   "source": []
  }
 ],
 "metadata": {
  "kernelspec": {
   "display_name": "Python 3",
   "language": "python",
   "name": "python3"
  },
  "language_info": {
   "codemirror_mode": {
    "name": "ipython",
    "version": 3
   },
   "file_extension": ".py",
   "mimetype": "text/x-python",
   "name": "python",
   "nbconvert_exporter": "python",
   "pygments_lexer": "ipython3",
   "version": "3.5.0"
  }
 },
 "nbformat": 4,
 "nbformat_minor": 0
}
